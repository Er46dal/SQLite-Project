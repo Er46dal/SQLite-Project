{
 "cells": [
  {
   "cell_type": "code",
   "execution_count": 7,
   "metadata": {},
   "outputs": [],
   "source": [
    "from sqlalchemy import create_engine\n",
    "import pandas as pd \n",
    "import sqlite3"
   ]
  },
  {
   "cell_type": "code",
   "execution_count": 29,
   "metadata": {
    "scrolled": true
   },
   "outputs": [],
   "source": [
    "engine=create_engine('sqlite:///C:/Users/turki/Downloads/1592834775_SQLFiles_Tier_1-20200622T140508Z-001 (2)/SQLFiles Tier 1/sqlite_db_pythonsqlite.db')\n",
    "tables=engine.table_names()\n"
   ]
  },
  {
   "cell_type": "code",
   "execution_count": 19,
   "metadata": {},
   "outputs": [],
   "source": [
    "# Q10: Produce a list of facilities with a total revenue less than 1000.The output of facility name and total revenue, sorted by revenue. Rememberthat there's a different cost for guests and members!\n",
    "\n",
    "con=engine.connect()\n",
    "q10=con.execute(\"SELECT f.name, SUM(f.membercost*b.slots+f.guestcost*b.slots*2) AS revenue FROM Facilities AS f INNER JOIN Bookings AS b ON f.facid=b.facid GROUP BY f.name ORDER BY revenue DESC\")\n",
    "df10=pd.DataFrame(rs.fetchall())\n"
   ]
  },
  {
   "cell_type": "code",
   "execution_count": 28,
   "metadata": {},
   "outputs": [],
   "source": [
    "#Q11: Produce a report of members and who recommended them in alphabetic surname,firstname order\n",
    "q11=con.execute(\"WITH r AS (select memid,surname||', ' || firstname as recommending_member FROM Members WHERE memid IN (SELECT recommendedby FROM Members )ORDER BY recommending_member) SELECT surname, firstname,r.recommending_member FROM Members AS m  LEFT JOIN r ON m.recommendedby=r.memid ORDER BY m.surname\")\n",
    "df11=pd.DataFrame(q11.fetchall())\n"
   ]
  },
  {
   "cell_type": "code",
   "execution_count": 22,
   "metadata": {},
   "outputs": [],
   "source": [
    "#Q12: Find the facilities with their usage by member, but not guests\n",
    "q12=con.execute(\"SELECT f.facid, f.name, b.memid FROM Bookings AS b INNER JOIN Facilities AS f ON f.facid=b.facid WHERE b.memid != 0\")\n",
    "df12=pd.DataFrame(q12.fetchall())\n"
   ]
  },
  {
   "cell_type": "code",
   "execution_count": 25,
   "metadata": {},
   "outputs": [],
   "source": [
    "#Q13: Find the facilities usage by month, but not guests\n",
    "\n",
    "q13=con.execute(\"SELECT f.facid, f.name, b.memid, strftime('%m',starttime) AS month FROM Bookings AS b  INNER JOIN Facilities AS f ON f.facid=b.facid WHERE b.memid != 0\")\n",
    "df13=pd.DataFrame(q13.fetchall())\n"
   ]
  }
 ],
 "metadata": {
  "kernelspec": {
   "display_name": "Python 3",
   "language": "python",
   "name": "python3"
  },
  "language_info": {
   "codemirror_mode": {
    "name": "ipython",
    "version": 3
   },
   "file_extension": ".py",
   "mimetype": "text/x-python",
   "name": "python",
   "nbconvert_exporter": "python",
   "pygments_lexer": "ipython3",
   "version": "3.7.4"
  }
 },
 "nbformat": 4,
 "nbformat_minor": 2
}
